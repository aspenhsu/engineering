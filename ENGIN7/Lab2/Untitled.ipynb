{
 "cells": [
  {
   "cell_type": "markdown",
   "metadata": {},
   "source": [
    "# E7: Introduction to Computer Programming for Scientists and Engineers"
   ]
  },
  {
   "cell_type": "markdown",
   "metadata": {},
   "source": [
    "### Lab Assignemnt 2: Functions and Arrays"
   ]
  },
  {
   "cell_type": "code",
   "execution_count": 50,
   "metadata": {
    "collapsed": false
   },
   "outputs": [],
   "source": [
    "# Please run this cell, and do not modify the contets\n",
    "import math\n",
    "import numpy as np\n",
    "np.seterr(all='ignore');"
   ]
  },
  {
   "cell_type": "markdown",
   "metadata": {},
   "source": [
    "### 1. Approximation of the Sine Function\n",
    "\n",
    "In `my_sin_approx(x)`, Calculate the following:\n",
    "\n",
    "**exact**: the \"exact\" value of `sin(x)` calculated by Python's built in math.sin function. Note that in this problem we describe this value as \"exact\" even though it may not be rigorously exact, as we will see later in the semester, when discussing binary representations of numbers.\n",
    "\n",
    "**approx**: the approxation of `sin(x)` calculated using the following Taylor Series approximation:\n",
    "\n",
    "$$sin(x) \\approx x - \\frac{x^3}{3!} + \\frac{x^5}{5!} - \\frac{x^7}{7!}$$\n",
    "\n",
    "**actual_error**: the error made on `sin(x)` when using the approxmaiton isntead of the exact value (i.e. `approx-exact`)\n",
    "\n",
    "**relative_error**: the relative error made on `sin(x)` when using the approximation instead of the exact value (i.e. `(approx-exact)/exact)`)"
   ]
  },
  {
   "cell_type": "markdown",
   "metadata": {},
   "source": [
    "Note that if exact is zero, then the calculation of `relative_error` involves a division by zero. Do not handle these cases any differently than the other cases. Python will use the values Inf, -Inf, and NaN where appropriate.  <span style=\"color:red\">**TODO:** actually check these</span>"
   ]
  },
  {
   "cell_type": "code",
   "execution_count": 51,
   "metadata": {
    "collapsed": false
   },
   "outputs": [],
   "source": [
    "def my_sin_approx(x):\n",
    "    x = np.float64(x)\n",
    "    \n",
    "    exact = math.sin(x)\n",
    "    approx = x - ((np.power(x,3))/math.factorial(3)) + ((np.power(x,6))/math.factorial(5)) - ((np.power(x,7))/math.factorial(7))\n",
    "    actual_error = approx - exact\n",
    "    relative_error = (actual_error/exact)\n",
    "    return (exact, approx, actual_error, relative_error)"
   ]
  },
  {
   "cell_type": "code",
   "execution_count": 53,
   "metadata": {
    "collapsed": false
   },
   "outputs": [
    {
     "data": {
      "text/plain": [
       "(0.0, 0.0, 0.0, nan)"
      ]
     },
     "execution_count": 53,
     "metadata": {},
     "output_type": "execute_result"
    }
   ],
   "source": [
    "my_sin_approx(1)\n",
    "my_sin_approx(5)\n",
    "my_sin_approx(-5)\n",
    "my_sin_approx(0)"
   ]
  },
  {
   "cell_type": "markdown",
   "metadata": {},
   "source": [
    "### 2. Inelastic Collision"
   ]
  },
  {
   "cell_type": "code",
   "execution_count": null,
   "metadata": {
    "collapsed": true
   },
   "outputs": [],
   "source": []
  }
 ],
 "metadata": {
  "anaconda-cloud": {},
  "kernelspec": {
   "display_name": "Python [conda root]",
   "language": "python",
   "name": "conda-root-py"
  },
  "language_info": {
   "codemirror_mode": {
    "name": "ipython",
    "version": 3
   },
   "file_extension": ".py",
   "mimetype": "text/x-python",
   "name": "python",
   "nbconvert_exporter": "python",
   "pygments_lexer": "ipython3",
   "version": "3.5.2"
  }
 },
 "nbformat": 4,
 "nbformat_minor": 1
}
